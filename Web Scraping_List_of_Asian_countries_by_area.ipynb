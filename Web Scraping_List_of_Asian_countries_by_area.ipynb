{
 "cells": [
  {
   "cell_type": "code",
   "execution_count": null,
   "metadata": {},
   "outputs": [],
   "source": [
    "#import the library to request website\n",
    "import requests\n",
    "wiki_link=\"https://en.wikipedia.org/wiki/List_of_Asian_countries_by_area\"\n",
    "link=requests.get(wiki_link).text\n",
    "print(link)"
   ]
  },
  {
   "cell_type": "code",
   "execution_count": null,
   "metadata": {},
   "outputs": [],
   "source": [
    "#pip install beautifulsoup4\n",
    "from bs4 import BeautifulSoup\n",
    "soup=BeautifulSoup(link, 'lxml') # style followed is lxml , converting text to beautifulsoup file\n",
    "print(type(soup))\n",
    "\n",
    "print(soup.prettify())"
   ]
  },
  {
   "cell_type": "code",
   "execution_count": null,
   "metadata": {},
   "outputs": [],
   "source": [
    "soup.title"
   ]
  },
  {
   "cell_type": "code",
   "execution_count": null,
   "metadata": {},
   "outputs": [],
   "source": [
    "soup.title.string"
   ]
  },
  {
   "cell_type": "code",
   "execution_count": null,
   "metadata": {},
   "outputs": [],
   "source": [
    "soup.a"
   ]
  },
  {
   "cell_type": "code",
   "execution_count": null,
   "metadata": {},
   "outputs": [],
   "source": [
    "soup.find_all(\"a\") # accessing html tags"
   ]
  },
  {
   "cell_type": "code",
   "execution_count": null,
   "metadata": {},
   "outputs": [],
   "source": [
    "all_link = soup.find_all(\"a\")\n",
    "for link in all_link:\n",
    "    print(link.get(\"href\"))"
   ]
  },
  {
   "cell_type": "code",
   "execution_count": null,
   "metadata": {},
   "outputs": [],
   "source": [
    "all_tables=soup.find_all(\"table\")\n",
    "print(all_tables)"
   ]
  },
  {
   "cell_type": "code",
   "execution_count": null,
   "metadata": {},
   "outputs": [],
   "source": [
    "right_table= soup.find('table', class_ = 'wikitable sortable') #wikitable soratable is class of table we want\n",
    "print(right_table)"
   ]
  },
  {
   "cell_type": "code",
   "execution_count": null,
   "metadata": {},
   "outputs": [],
   "source": [
    "table_links=right_table.findAll('a')\n",
    "table_links"
   ]
  },
  {
   "cell_type": "code",
   "execution_count": null,
   "metadata": {},
   "outputs": [],
   "source": [
    "country = []\n",
    "for links in table_links:\n",
    "    country.append(links.get('title'))\n",
    "print(country)"
   ]
  },
  {
   "cell_type": "code",
   "execution_count": null,
   "metadata": {},
   "outputs": [],
   "source": [
    "all_rows=right_table.findAll('tr')\n",
    "lst_area=[]\n",
    "country=[]\n",
    "for row in all_rows:\n",
    "    col=row.findAll('td')\n",
    "    if len(col)>2:\n",
    "        if col[1].find('a') is not None:\n",
    "            title=col[1].find('a').get('title')\n",
    "            if title is not None:\n",
    "                country.append(title)\n",
    "                lst_area.append(col[2].text.rstrip())\n",
    "                "
   ]
  },
  {
   "cell_type": "code",
   "execution_count": null,
   "metadata": {},
   "outputs": [],
   "source": [
    "lst_area"
   ]
  },
  {
   "cell_type": "code",
   "execution_count": null,
   "metadata": {},
   "outputs": [],
   "source": [
    "import pandas as pd\n",
    "df = pd.DataFrame()\n",
    "print(len(country))\n",
    "print(len(lst_area))\n",
    "df['Country']=country\n",
    "df['Area']=lst_area\n",
    "df.to_excel(r'C:\\new\\country_list.xlsx', index=False)"
   ]
  }
 ],
 "metadata": {
  "kernelspec": {
   "display_name": "Python 3",
   "language": "python",
   "name": "python3"
  },
  "language_info": {
   "codemirror_mode": {
    "name": "ipython",
    "version": 3
   },
   "file_extension": ".py",
   "mimetype": "text/x-python",
   "name": "python",
   "nbconvert_exporter": "python",
   "pygments_lexer": "ipython3",
   "version": "3.7.4"
  }
 },
 "nbformat": 4,
 "nbformat_minor": 2
}
